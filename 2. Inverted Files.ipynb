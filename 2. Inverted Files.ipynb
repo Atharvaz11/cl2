{
 "cells": [
  {
   "cell_type": "code",
   "execution_count": 4,
   "id": "571679f6-efac-489e-8379-3b626e0fbac4",
   "metadata": {},
   "outputs": [],
   "source": [
    "class InvertedIndex:\n",
    "    def __init__(self):\n",
    "        self.index = {}\n",
    "    \n",
    "    def add_document(self, doc_id, text):\n",
    "        words = text.lower().split()\n",
    "        for word in words:\n",
    "            if word not in self.index:\n",
    "                self.index[word] = []\n",
    "            if doc_id not in self.index[word]:\n",
    "                self.index[word].append(doc_id)\n",
    "      \n",
    "    def search(self, query):\n",
    "        words = query.lower().split()\n",
    "        result_docs = set(self.index.get(words[0], []))\n",
    "        for word in words[1:]:\n",
    "            result_docs &= set(self.index.get(word, []))\n",
    "        return result_docs"
   ]
  },
  {
   "cell_type": "code",
   "execution_count": 5,
   "id": "639e0afb-27ec-48dc-9e0e-22dac62441bb",
   "metadata": {},
   "outputs": [],
   "source": [
    "documents = {\n",
    "    1: \"apple orange banana\",\n",
    "    2: \"apple fruit\",\n",
    "    3: \"banana orange fruit\",\n",
    "    4: \"orange cat is big fat\"\n",
    "}"
   ]
  },
  {
   "cell_type": "code",
   "execution_count": 6,
   "id": "e16680ec-45f5-4a26-aff4-c8510d8c1ed3",
   "metadata": {},
   "outputs": [
    {
     "name": "stdin",
     "output_type": "stream",
     "text": [
      "Enter search query:  cat\n"
     ]
    },
    {
     "name": "stdout",
     "output_type": "stream",
     "text": [
      "Documents matching 'cat': {4}\n"
     ]
    }
   ],
   "source": [
    "index = InvertedIndex()\n",
    "for doc_id, text in documents.items():\n",
    "    index.add_document(doc_id, text)\n",
    "\n",
    "# Search for a query\n",
    "query = input(\"Enter search query: \")\n",
    "result = index.search(query)\n",
    "\n",
    "# Display results\n",
    "print(f\"Documents matching '{query}':\", result if result else \"No matches found\")\n",
    "\n",
    "  "
   ]
  },
  {
   "cell_type": "raw",
   "id": "49df87f1-fa1c-4878-bb7b-3e986f4b2b6c",
   "metadata": {},
   "source": [
    "Explanation:\n",
    "Inverted Index Construction: The inverted index is created the same way as before, mapping each word to the documents it appears in.\n",
    "\n",
    "Search Input: We prompt the user to input a search query.\n",
    "\n",
    "-The query is converted to lowercase and split into individual terms.\n",
    "\n",
    "Search Query Processing: We search the inverted index for each query term and find which documents contain it.\n",
    "\n",
    "Result Display: If any matching documents are found, they are displayed. Otherwise, a message indicates no matches were found.#\n",
    "\n",
    "How it Works:\n",
    "Inverted Index: The program builds an index of words (terms) and the documents where those words appear.\n",
    "Search: The user enters a search query, and the program checks which documents contain all the words in the query.\n",
    "Results: The documents containing all the terms from the query are displayed."
   ]
  },
  {
   "cell_type": "code",
   "execution_count": null,
   "id": "9c54a2d8-b360-47b1-ac80-abbd55a6312b",
   "metadata": {},
   "outputs": [],
   "source": []
  },
  {
   "cell_type": "code",
   "execution_count": null,
   "id": "e74f28f6-02e4-4ed0-a798-135f31dc653e",
   "metadata": {},
   "outputs": [],
   "source": []
  }
 ],
 "metadata": {
  "kernelspec": {
   "display_name": "Python 3 (ipykernel)",
   "language": "python",
   "name": "python3"
  },
  "language_info": {
   "codemirror_mode": {
    "name": "ipython",
    "version": 3
   },
   "file_extension": ".py",
   "mimetype": "text/x-python",
   "name": "python",
   "nbconvert_exporter": "python",
   "pygments_lexer": "ipython3",
   "version": "3.11.7"
  }
 },
 "nbformat": 4,
 "nbformat_minor": 5
}
